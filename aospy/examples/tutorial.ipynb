{
 "cells": [
  {
   "cell_type": "markdown",
   "metadata": {},
   "source": [
    "aospy Tutorial\n",
    "========\n",
    "This notebook closely follows the descriptions, objects created, and code executed in the [examples](http://aospy.readthedocs.io/en/latest/examples.html) page in the documentation.  "
   ]
  },
  {
   "cell_type": "markdown",
   "metadata": {},
   "source": [
    "Preliminaries\n",
    "-------------\n",
    "First we'll save the path to the example data in a local variable, since we'll be using it in several places below."
   ]
  },
  {
   "cell_type": "code",
   "execution_count": 1,
   "metadata": {},
   "outputs": [],
   "source": [
    "import os  # Python built-in package for working with the operating system\n",
    "import aospy\n",
    "rootdir = os.path.join(aospy.__path__[0], 'test', 'data', 'netcdf')"
   ]
  },
  {
   "cell_type": "markdown",
   "metadata": {},
   "source": [
    "Now we'll use the fantastic [xarray](http://xarray.pydata.org/en/stable/) package to inspect the data:"
   ]
  },
  {
   "cell_type": "code",
   "execution_count": 2,
   "metadata": {},
   "outputs": [
    {
     "data": {
      "text/plain": [
       "<xarray.Dataset>\n",
       "Dimensions:            (lat: 64, latb: 65, lon: 128, lonb: 129, nv: 2, time: 36)\n",
       "Coordinates:\n",
       "  * lonb               (lonb) float64 -1.406 1.406 4.219 7.031 9.844 12.66 ...\n",
       "  * lon                (lon) float64 0.0 2.812 5.625 8.438 11.25 14.06 16.88 ...\n",
       "  * latb               (latb) float64 -90.0 -86.58 -83.76 -80.96 -78.16 ...\n",
       "  * lat                (lat) float64 -87.86 -85.1 -82.31 -79.53 -76.74 ...\n",
       "  * nv                 (nv) float64 1.0 2.0\n",
       "  * time               (time) float64 1.111e+03 1.139e+03 1.17e+03 1.2e+03 ...\n",
       "Data variables:\n",
       "    condensation_rain  (time, lat, lon) float32 dask.array<shape=(36, 64, 128), chunksize=(12, 64, 128)>\n",
       "    convection_rain    (time, lat, lon) float32 dask.array<shape=(36, 64, 128), chunksize=(12, 64, 128)>\n",
       "    time_bounds        (time, nv) float64 dask.array<shape=(36, 2), chunksize=(12, 2)>\n",
       "    average_DT         (time) float64 dask.array<shape=(36,), chunksize=(12,)>\n",
       "    zsurf              (time, lat, lon) float32 dask.array<shape=(36, 64, 128), chunksize=(12, 64, 128)>"
      ]
     },
     "execution_count": 2,
     "metadata": {},
     "output_type": "execute_result"
    }
   ],
   "source": [
    "import xarray as xr\n",
    "xr.open_mfdataset(os.path.join(rootdir, '000[4-6]0101.precip_monthly.nc'),\n",
    "                  decode_times=False)"
   ]
  },
  {
   "cell_type": "markdown",
   "metadata": {},
   "source": [
    "We see that, in this particular model, the variable names for these two forms of precipitation are \"condensation_rain\" and \"convection_rain\", respectively.  The file also includes the coordinate arrays (\"lat\", \"time\", etc.) that indicate where in space and time the data refers to."
   ]
  },
  {
   "cell_type": "markdown",
   "metadata": {},
   "source": [
    "Now that we know where and what the data is, we'll proceed through the workflow described in the [Using aospy](http://aospy.readthedocs.io/en/latest/using-aospy.html) section of the documentation."
   ]
  },
  {
   "cell_type": "markdown",
   "metadata": {},
   "source": [
    "Describing your data\n",
    "===========\n",
    "\n",
    "Runs and DataLoaders\n",
    "-------------------\n",
    "\n",
    "First we create a `Run` object that stores metadata about this simulation. This includes specifying where its files are located via an DataLoader object.\n",
    "\n",
    "DataLoaders specify where your data is located and organized. Several types of DataLoaders exist, each for a different directory and file structure; see the [API reference](http://aospy.readthedocs.io/en/latest/api.html) for details.\n",
    "\n",
    "For our simple case, where the data comprises a single file, the simplest DataLoader, a DictDataLoader, works well. It maps your data based on the time frequency of its output (e.g. 6 hourly, daily, monthly, annual) to the corresponding netCDF files via a simple dictionary:"
   ]
  },
  {
   "cell_type": "code",
   "execution_count": 3,
   "metadata": {},
   "outputs": [],
   "source": [
    "from aospy.data_loader import DictDataLoader\n",
    "file_map = {'monthly': os.path.join(rootdir, '000[4-6]0101.precip_monthly.nc')}\n",
    "data_loader = DictDataLoader(file_map)"
   ]
  },
  {
   "cell_type": "markdown",
   "metadata": {},
   "source": [
    "We then pass this to the `Run` constructor, along with a name for the run and an optional description.\n",
    "\n",
    "Note: see the [API reference](http://aospy.readthedocs.io/en/latest/api.html) for other optional arguments for this and the other core aospy objects used in this tutorial."
   ]
  },
  {
   "cell_type": "code",
   "execution_count": 4,
   "metadata": {},
   "outputs": [],
   "source": [
    "from aospy import Run\n",
    "example_run = Run(\n",
    "    name='example_run',\n",
    "    description='Control simulation of the idealized moist model',\n",
    "    data_loader=data_loader\n",
    ")"
   ]
  },
  {
   "cell_type": "markdown",
   "metadata": {},
   "source": [
    "Models\n",
    "------\n",
    "\n",
    "Next, we create the `Model` object that describes the model in which the simulation was executed. One important attribute is grid_file_paths, which consists of a sequence (e.g. a tuple or list) of paths to netCDF files from which physical attributes of that model can be found that aren't already embedded in the output netCDF files.\n",
    "\n",
    "For example, often the land mask that defines which gridpoints are ocean or land is outputted to a single, standalone netCDF file, rather than being included in the other output files. But we often need the land mask, e.g. to define certain land-only or ocean-only regions. This and other grid-related properties shared across all of a Model's simulations can be found in one or more of the files in grid_file_paths.\n",
    "\n",
    "The other important attribute is runs, which is a list of the `Run` objects that pertain to simulations performed in this particular model."
   ]
  },
  {
   "cell_type": "code",
   "execution_count": 5,
   "metadata": {},
   "outputs": [],
   "source": [
    "from aospy import Model\n",
    "example_model = Model(\n",
    "    name='example_model',\n",
    "    grid_file_paths=(\n",
    "        os.path.join(rootdir, '00040101.precip_monthly.nc'),\n",
    "        os.path.join(rootdir, 'im.landmask.nc')\n",
    "    ),\n",
    "    runs=[example_run]  # only one Run in our case, but could be more\n",
    ")"
   ]
  },
  {
   "cell_type": "markdown",
   "metadata": {},
   "source": [
    "Projects\n",
    "--------\n",
    "\n",
    "Finally, we associate the Model object with a Proj object. This is the level at which we specify the directories to which aospy output gets written."
   ]
  },
  {
   "cell_type": "code",
   "execution_count": 6,
   "metadata": {},
   "outputs": [],
   "source": [
    "from aospy import Proj\n",
    "example_proj = Proj(\n",
    "    'example_proj',\n",
    "    direc_out='example-output',  # default, netCDF output (always on)\n",
    "    tar_direc_out='example-tar-output', # output to .tar files (optional)\n",
    "    models=[example_model]  # only one Model in our case, but could be more\n",
    ")"
   ]
  },
  {
   "cell_type": "markdown",
   "metadata": {},
   "source": [
    "This extra `Proj` level of organization may seem like overkill for this simple example, but it really comes in handy once you start using aospy for more than one project."
   ]
  },
  {
   "cell_type": "markdown",
   "metadata": {},
   "source": [
    "Defining physical quantities and regions\n",
    "======================\n",
    "\n",
    "Having now fully specified the particular data of interest, we now define the general physical quantities of interest and any geographic regions over which to aggregate results.\n",
    "\n",
    "Physical variables\n",
    "------------------\n",
    "\n",
    "We'll first define `Var` objects for the two variables that we saw are directly available as model output:"
   ]
  },
  {
   "cell_type": "code",
   "execution_count": 7,
   "metadata": {},
   "outputs": [],
   "source": [
    "from aospy import Var\n",
    "\n",
    "precip_largescale = Var(\n",
    "    name='precip_largescale',  # name used by aospy\n",
    "    alt_names=('condensation_rain',),  # its possible name(s) in your data\n",
    "    def_time=True,  # whether or not it is defined in time\n",
    "    description='Precipitation generated via grid-scale condensation',\n",
    ")\n",
    "precip_convective = Var(\n",
    "    name='precip_convective',\n",
    "    alt_names=('convection_rain', 'prec_conv'),\n",
    "    def_time=True,\n",
    "    description='Precipitation generated by convective parameterization',\n",
    ")"
   ]
  },
  {
   "cell_type": "markdown",
   "metadata": {},
   "source": [
    "When it comes time to load data corresponding to either of these from one or more particular netCDF files, aospy will search for variables matching either `name` or any of the names in `alt_names`, stopping at the first successful one. This makes the common problem of model-specific variable names a breeze: if you end up with data with a new name for your variable, just add it to `alt_names`.\n",
    "\n",
    "Warning: This assumes that the name and all alternate names are unique to that variable, i.e. that in none of your data do those names actually signify something else. If that was indeed the case, aospy can potentially grab the wrong data without issuing an error message or warning.\n",
    "\n",
    "Next, we'll create functions that compute the total precipitation and convective precipitation fraction and combine them with the above Var objects to define the new Var objects:"
   ]
  },
  {
   "cell_type": "code",
   "execution_count": 8,
   "metadata": {},
   "outputs": [],
   "source": [
    "def total_precip(condensation_rain, convection_rain):\n",
    "    \"\"\"Sum of large-scale and convective precipitation.\"\"\"\n",
    "    return condensation_rain + convection_rain\n",
    "\n",
    "def conv_precip_frac(precip_largescale, precip_convective):\n",
    "    \"\"\"Fraction of total precip that is from convection parameterization.\"\"\"\n",
    "    total = total_precip(precip_largescale, precip_convective)\n",
    "    return precip_convective / total.where(total)\n",
    "\n",
    "\n",
    "precip_total = Var(\n",
    "    name='precip_total',\n",
    "    def_time=True,\n",
    "    func=total_precip,\n",
    "    variables=(precip_largescale, precip_convective),\n",
    ")\n",
    "\n",
    "precip_conv_frac = Var(\n",
    "   name='precip_conv_frac',\n",
    "   def_time=True,\n",
    "   func=conv_precip_frac,\n",
    "   variables=(precip_largescale, precip_convective),\n",
    ")"
   ]
  },
  {
   "cell_type": "markdown",
   "metadata": {},
   "source": [
    "Notice the `func` and `variables` attributes that weren't in the prior `Var` constuctors. These signify the function to use and the physical quantities to pass to that function in order to compute the quantity.\n",
    "\n",
    "Note: although `variables` is passed a tuple of `Var` objects corresponding to the physical quantities passed to `func`, `func` should be a function whose arguments are the DataArray objects corresponding to those variables. aospy uses the `Var` objects to load the DataArrays and then passes them to the function.\n",
    "\n",
    "This enables you to write simple, expressive functions comprising only the physical operations to perform (since the \"data wrangling\" part has been handled already).\n",
    "\n",
    "Warning: order matters in the tuple of `Var` objects passed to the variables attribute: it must match the order of the call signature of the function passed to `func`.\n",
    "\n",
    "E.g. in `precip_conv_frac` above, if we had mistakenly done `variables=(precip_convective, precip_largescale)`, the calculation would execute without error, but all of the results would be physically wrong.\n",
    "\n",
    "Geographic regions\n",
    "-----------------\n",
    "\n",
    "Last, we define the geographic regions over which to perform aggregations and add them to `example_proj`. We'll look at the whole globe and at the Tropics"
   ]
  },
  {
   "cell_type": "code",
   "execution_count": 9,
   "metadata": {},
   "outputs": [],
   "source": [
    "from aospy import Region\n",
    "globe = Region(\n",
    "    name='globe',\n",
    "    description='Entire globe',\n",
    "    west_bound=0,\n",
    "    east_bound=360,\n",
    "    south_bound=-90,\n",
    "    north_bound=90,\n",
    "    do_land_mask=False\n",
    ")\n",
    "\n",
    "tropics = Region(\n",
    "    name='tropics',\n",
    "    description='Global tropics, defined as 30S-30N',\n",
    "    west_bound=0,\n",
    "    east_bound=360,\n",
    "    south_bound=-30,\n",
    "    north_bound=30,\n",
    "    do_land_mask=False\n",
    ")\n",
    "example_proj.regions = [globe, tropics]"
   ]
  },
  {
   "cell_type": "markdown",
   "metadata": {},
   "source": [
    "We now have all of the needed metadata in place. So let's start crunching numbers!\n",
    "\n",
    "Submitting calculations\n",
    "============\n",
    "\n",
    "Using `aospy.submit_mult_calcs`\n",
    "-----------------------------\n",
    "\n",
    "Having put in the legwork above of describing our data and the physical quantities we wish to compute, we can submit our desired calculations for execution using `aospy.submit_mult_calcs`. Its sole required argument is a dictionary specifying all of the desired parameter combinations.\n",
    "\n",
    "In the example below, we import and use the `example_obj_lib` module that is included with aospy and whose objects are essentially identical to the ones we've defined above."
   ]
  },
  {
   "cell_type": "code",
   "execution_count": 10,
   "metadata": {},
   "outputs": [],
   "source": [
    "from aospy.examples import example_obj_lib as lib\n",
    "\n",
    "calc_suite_specs = dict(\n",
    "    library=lib,\n",
    "    projects=[lib.example_proj],\n",
    "    models=[lib.example_model],\n",
    "    runs=[lib.example_run],\n",
    "    variables=[lib.precip_largescale, lib.precip_convective,\n",
    "               lib.precip_total, lib.precip_conv_frac],\n",
    "    regions='all',\n",
    "    date_ranges='default',\n",
    "    output_time_intervals=['ann'],\n",
    "    output_time_regional_reductions=['av', 'reg.av'],\n",
    "    output_vertical_reductions=[None],\n",
    "    input_time_intervals=['monthly'],\n",
    "    input_time_datatypes=['ts'],\n",
    "    input_time_offsets=[None],\n",
    "    input_vertical_datatypes=[False],\n",
    ")"
   ]
  },
  {
   "cell_type": "markdown",
   "metadata": {},
   "source": [
    "See the `api-ref` on `aospy.submit_mult_calcs` for more on `calc_suite_specs`, including accepted values for each key.\n",
    "\n",
    "`submit_mult_calcs` also accepts a second dictionary specifying some options regarding how we want aospy to display, execute, and save our calculations. For the sake of this simple demonstration, we'll suppress the prompt to confirm the calculations, submit them in serial rather than parallel, and suppress writing backup output to .tar files:"
   ]
  },
  {
   "cell_type": "code",
   "execution_count": 11,
   "metadata": {},
   "outputs": [],
   "source": [
    "calc_exec_options = dict(prompt_verify=False, parallelize=False,\n",
    "                         write_to_tar=False)"
   ]
  },
  {
   "cell_type": "markdown",
   "metadata": {},
   "source": [
    "Now let's submit this for execution:"
   ]
  },
  {
   "cell_type": "code",
   "execution_count": 12,
   "metadata": {},
   "outputs": [
    {
     "name": "stderr",
     "output_type": "stream",
     "text": [
      "INFO:root:Getting input data: Var instance \"precip_largescale\" (Sun May 20 09:40:28 2018)\n",
      "WARNING:root:Datapoints were stored using the np.float32 datatype.For accurate reduction operations using bottleneck, datapoints are being cast to the np.float64 datatype. For more information see: https://github.com/pydata/xarray/issues/1346\n",
      "INFO:root:Getting input data: Var instance \"precip_convective\" (Sun May 20 09:40:28 2018)\n",
      "WARNING:root:Datapoints were stored using the np.float32 datatype.For accurate reduction operations using bottleneck, datapoints are being cast to the np.float64 datatype. For more information see: https://github.com/pydata/xarray/issues/1346\n",
      "INFO:root:Computing timeseries for 0004-01-01 00:00:00 -- 0006-12-31 00:00:00.\n",
      "INFO:root:Applying desired time-reduction methods. (Sun May 20 09:40:29 2018)\n",
      "INFO:root:Writing desired gridded outputs to disk.\n",
      "INFO:root:\texample-output/example_proj/example_model/example_run/precip_total/precip_total.ann.av.from_monthly_ts.example_model.example_run.0004-0006.nc\n",
      "//anaconda/envs/aospy_dev/lib/python3.6/_collections_abc.py:743: FutureWarning: iteration over an xarray.Dataset will change in xarray v0.11 to only include data variables, not coordinates. Iterate over the Dataset.variables property instead to preserve existing behavior in a forwards compatible manner.\n",
      "  for key in self._mapping:\n",
      "INFO:root:\texample-output/example_proj/example_model/example_run/precip_total/precip_total.ann.reg.av.from_monthly_ts.example_model.example_run.0004-0006.nc\n",
      "INFO:root:Getting input data: Var instance \"precip_largescale\" (Sun May 20 09:40:29 2018)\n",
      "WARNING:root:Datapoints were stored using the np.float32 datatype.For accurate reduction operations using bottleneck, datapoints are being cast to the np.float64 datatype. For more information see: https://github.com/pydata/xarray/issues/1346\n",
      "INFO:root:Getting input data: Var instance \"precip_convective\" (Sun May 20 09:40:29 2018)\n",
      "WARNING:root:Datapoints were stored using the np.float32 datatype.For accurate reduction operations using bottleneck, datapoints are being cast to the np.float64 datatype. For more information see: https://github.com/pydata/xarray/issues/1346\n",
      "INFO:root:Computing timeseries for 0004-01-01 00:00:00 -- 0006-12-31 00:00:00.\n",
      "INFO:root:Applying desired time-reduction methods. (Sun May 20 09:40:29 2018)\n",
      "INFO:root:Writing desired gridded outputs to disk.\n",
      "INFO:root:\texample-output/example_proj/example_model/example_run/precip_conv_frac/precip_conv_frac.ann.av.from_monthly_ts.example_model.example_run.0004-0006.nc\n",
      "//anaconda/envs/aospy_dev/lib/python3.6/_collections_abc.py:743: FutureWarning: iteration over an xarray.Dataset will change in xarray v0.11 to only include data variables, not coordinates. Iterate over the Dataset.variables property instead to preserve existing behavior in a forwards compatible manner.\n",
      "  for key in self._mapping:\n",
      "INFO:root:\texample-output/example_proj/example_model/example_run/precip_conv_frac/precip_conv_frac.ann.reg.av.from_monthly_ts.example_model.example_run.0004-0006.nc\n",
      "INFO:root:Getting input data: Var instance \"precip_largescale\" (Sun May 20 09:40:29 2018)\n",
      "WARNING:root:Datapoints were stored using the np.float32 datatype.For accurate reduction operations using bottleneck, datapoints are being cast to the np.float64 datatype. For more information see: https://github.com/pydata/xarray/issues/1346\n",
      "INFO:root:Computing timeseries for 0004-01-01 00:00:00 -- 0006-12-31 00:00:00.\n",
      "INFO:root:Applying desired time-reduction methods. (Sun May 20 09:40:29 2018)\n",
      "INFO:root:Writing desired gridded outputs to disk.\n",
      "INFO:root:\texample-output/example_proj/example_model/example_run/precip_largescale/precip_largescale.ann.av.from_monthly_ts.example_model.example_run.0004-0006.nc\n",
      "//anaconda/envs/aospy_dev/lib/python3.6/_collections_abc.py:743: FutureWarning: iteration over an xarray.Dataset will change in xarray v0.11 to only include data variables, not coordinates. Iterate over the Dataset.variables property instead to preserve existing behavior in a forwards compatible manner.\n",
      "  for key in self._mapping:\n",
      "INFO:root:\texample-output/example_proj/example_model/example_run/precip_largescale/precip_largescale.ann.reg.av.from_monthly_ts.example_model.example_run.0004-0006.nc\n",
      "INFO:root:Getting input data: Var instance \"precip_convective\" (Sun May 20 09:40:29 2018)\n",
      "WARNING:root:Datapoints were stored using the np.float32 datatype.For accurate reduction operations using bottleneck, datapoints are being cast to the np.float64 datatype. For more information see: https://github.com/pydata/xarray/issues/1346\n",
      "INFO:root:Computing timeseries for 0004-01-01 00:00:00 -- 0006-12-31 00:00:00.\n",
      "INFO:root:Applying desired time-reduction methods. (Sun May 20 09:40:30 2018)\n",
      "INFO:root:Writing desired gridded outputs to disk.\n",
      "INFO:root:\texample-output/example_proj/example_model/example_run/precip_convective/precip_convective.ann.av.from_monthly_ts.example_model.example_run.0004-0006.nc\n",
      "//anaconda/envs/aospy_dev/lib/python3.6/_collections_abc.py:743: FutureWarning: iteration over an xarray.Dataset will change in xarray v0.11 to only include data variables, not coordinates. Iterate over the Dataset.variables property instead to preserve existing behavior in a forwards compatible manner.\n",
      "  for key in self._mapping:\n",
      "INFO:root:\texample-output/example_proj/example_model/example_run/precip_convective/precip_convective.ann.reg.av.from_monthly_ts.example_model.example_run.0004-0006.nc\n"
     ]
    }
   ],
   "source": [
    "from aospy import submit_mult_calcs\n",
    "calcs = submit_mult_calcs(calc_suite_specs, calc_exec_options)"
   ]
  },
  {
   "cell_type": "markdown",
   "metadata": {},
   "source": [
    "This permutes over all of the parameter settings in `calc_suite_specs`, generating and executing the resulting calculation. In this case, it will compute all four variables and perform annual averages, both for each gridpoint and regionally averaged.\n",
    "\n",
    "Although we do not show it here, this also prints logging information to the terminal at various steps during each calculation, including the filepaths to the netCDF files written to disk of the results."
   ]
  },
  {
   "cell_type": "markdown",
   "metadata": {},
   "source": [
    "Results\n",
    "-------\n",
    "\n",
    "The result is a list of `aospy.Calc` objects, one per simulation."
   ]
  },
  {
   "cell_type": "code",
   "execution_count": 13,
   "metadata": {},
   "outputs": [
    {
     "data": {
      "text/plain": [
       "[<aospy.Calc instance: precip_total, example_proj, example_model, example_run>,\n",
       " <aospy.Calc instance: precip_conv_frac, example_proj, example_model, example_run>,\n",
       " <aospy.Calc instance: precip_largescale, example_proj, example_model, example_run>,\n",
       " <aospy.Calc instance: precip_convective, example_proj, example_model, example_run>]"
      ]
     },
     "execution_count": 13,
     "metadata": {},
     "output_type": "execute_result"
    }
   ],
   "source": [
    "calcs"
   ]
  },
  {
   "cell_type": "markdown",
   "metadata": {},
   "source": [
    "Each `Calc` object includes the paths to the output"
   ]
  },
  {
   "cell_type": "code",
   "execution_count": 14,
   "metadata": {},
   "outputs": [
    {
     "data": {
      "text/plain": [
       "{'av': 'example-output/example_proj/example_model/example_run/precip_total/precip_total.ann.av.from_monthly_ts.example_model.example_run.0004-0006.nc',\n",
       " 'reg.av': 'example-output/example_proj/example_model/example_run/precip_total/precip_total.ann.reg.av.from_monthly_ts.example_model.example_run.0004-0006.nc'}"
      ]
     },
     "execution_count": 14,
     "metadata": {},
     "output_type": "execute_result"
    }
   ],
   "source": [
    "calcs[0].path_out"
   ]
  },
  {
   "cell_type": "markdown",
   "metadata": {},
   "source": [
    "and the results of each output type"
   ]
  },
  {
   "cell_type": "code",
   "execution_count": 15,
   "metadata": {},
   "outputs": [
    {
     "data": {
      "text/plain": [
       "{'av': <xarray.DataArray (lat: 64, lon: 128)>\n",
       " array([[  5.158033e-06,   5.146671e-06,   5.135556e-06, ...,   5.176134e-06,\n",
       "           5.170886e-06,   5.165684e-06],\n",
       "        [  4.978642e-06,   5.003572e-06,   5.029685e-06, ...,   4.947511e-06,\n",
       "           4.960262e-06,   4.970894e-06],\n",
       "        [  5.608857e-06,   5.626041e-06,   5.659296e-06, ...,   5.449484e-06,\n",
       "           5.514129e-06,   5.578681e-06],\n",
       "        ..., \n",
       "        [  5.284707e-06,   5.260350e-06,   5.241916e-06, ...,   5.429388e-06,\n",
       "           5.373469e-06,   5.316535e-06],\n",
       "        [  4.975340e-06,   4.982203e-06,   4.983765e-06, ...,   4.975950e-06,\n",
       "           4.970845e-06,   4.972452e-06],\n",
       "        [  5.357783e-06,   5.319537e-06,   5.285620e-06, ...,   5.450081e-06,\n",
       "           5.420615e-06,   5.394608e-06]])\n",
       " Coordinates:\n",
       "   * lon                  (lon) float64 0.0 2.812 5.625 8.438 11.25 14.06 ...\n",
       "   * lat                  (lat) float64 -87.86 -85.1 -82.31 -79.53 -76.74 ...\n",
       "     zsurf                (lat, lon) float32 0.0 0.0 0.0 0.0 0.0 0.0 0.0 0.0 ...\n",
       "     raw_data_start_date  object 0004-01-01 00:00:00\n",
       "     raw_data_end_date    object 0007-01-01 00:00:00\n",
       "     subset_start_date    object 0004-01-01 00:00:00\n",
       "     subset_end_date      object 0006-12-31 00:00:00\n",
       "     sfc_area             (lat, lon) float64 3.553e+09 3.553e+09 3.553e+09 ...\n",
       "     land_mask            (lat, lon) float64 0.0 0.0 0.0 0.0 0.0 0.0 0.0 0.0 ...\n",
       " Attributes:\n",
       "     units:        \n",
       "     description:  Sum of convective and large-scale precipitation.\\n\\n    Par...,\n",
       " 'reg.av': <xarray.Dataset>\n",
       " Dimensions:              ()\n",
       " Coordinates:\n",
       "     raw_data_start_date  object 0004-01-01 00:00:00\n",
       "     raw_data_end_date    object 0007-01-01 00:00:00\n",
       "     subset_start_date    object 0004-01-01 00:00:00\n",
       "     subset_end_date      object 0006-12-31 00:00:00\n",
       " Data variables:\n",
       "     tropics              float64 4.062e-05\n",
       "     globe                float64 3.501e-05}"
      ]
     },
     "execution_count": 15,
     "metadata": {},
     "output_type": "execute_result"
    }
   ],
   "source": [
    "calcs[0].data_out"
   ]
  },
  {
   "cell_type": "markdown",
   "metadata": {},
   "source": [
    "Note: you may have noticed that `subset_...` and `raw_...` coordinates have years 1678 and later, when our data was from model years 4 through 6. This is because [technical details upstream](http://pandas.pydata.org/pandas-docs/stable/timeseries.html#timestamp-limitations) limit the range of supported whole years to 1678-2262.\n",
    "\n",
    "As a workaround, aospy pretends that any timeseries that starts before the beginning of this range actually starts at 1678. An upstream fix is [currently under way](https://github.com/pydata/xarray/issues/1084), at which point all dates will be supported without this workaround.\n",
    "\n",
    "Gridpoint-by-gridpoint\n",
    "---------------------\n",
    "\n",
    "Let's plot (using matplotlib) the time average at each gridcell of all four variables. For demonstration purposes, we'll load the data that was saved to disk using xarray rather than getting it directly from the data_out attribute as above."
   ]
  },
  {
   "cell_type": "code",
   "execution_count": 16,
   "metadata": {},
   "outputs": [
    {
     "data": {
      "image/png": "[encoded data removed]",
      "text/plain": [
       "<matplotlib.figure.Figure at 0x11791dc18>"
      ]
     },
     "metadata": {},
     "output_type": "display_data"
    }
   ],
   "source": [
    "from matplotlib import pyplot as plt\n",
    "%matplotlib inline\n",
    "\n",
    "fig = plt.figure()\n",
    "\n",
    "for i, calc in enumerate(calcs):\n",
    "    ax = fig.add_subplot(2, 2, i+1)\n",
    "    arr = calc.data_out['av']\n",
    "    if calc.name != precip_conv_frac.name:\n",
    "        arr *= 86400  # convert to units mm per day\n",
    "    arr.plot(ax=ax)\n",
    "    ax.set_title(calc.name)\n",
    "    ax.set_xticks(range(0, 361, 60))\n",
    "    ax.set_yticks(range(-90, 91, 30))\n",
    "\n",
    "plt.tight_layout()\n",
    "\n",
    "plt.show()"
   ]
  },
  {
   "cell_type": "markdown",
   "metadata": {},
   "source": [
    "We see that precipitation maximizes at the equator and has a secondary maximum in the mid-latitudes. Also, the convective precipitation dominates the total in the Tropics, but moving poleward the gridscale condensation plays an increasingly larger fractional role (note different colorscales in each panel).\n",
    "\n",
    "Regional averages\n",
    "----------------\n",
    "\n",
    "Now let's examine the regional averages. We find that the global annual mean total precipitation rate for this run (converting to units of mm per day) is:"
   ]
  },
  {
   "cell_type": "code",
   "execution_count": 17,
   "metadata": {},
   "outputs": [
    {
     "name": "stdout",
     "output_type": "stream",
     "text": [
      "precip_total <xarray.Dataset>\n",
      "Dimensions:              ()\n",
      "Coordinates:\n",
      "    raw_data_start_date  object 0004-01-01 00:00:00\n",
      "    subset_start_date    object 0004-01-01 00:00:00\n",
      "    raw_data_end_date    object 0007-01-01 00:00:00\n",
      "    subset_end_date      object 0006-12-31 00:00:00\n",
      "Data variables:\n",
      "    tropics              float64 3.51\n",
      "    globe                float64 3.025 \n",
      "\n",
      "precip_conv_frac <xarray.Dataset>\n",
      "Dimensions:              ()\n",
      "Coordinates:\n",
      "    raw_data_start_date  object 0004-01-01 00:00:00\n",
      "    raw_data_end_date    object 0007-01-01 00:00:00\n",
      "    subset_start_date    object 0004-01-01 00:00:00\n",
      "    subset_end_date      object 0006-12-31 00:00:00\n",
      "Data variables:\n",
      "    tropics              float64 0.808\n",
      "    globe                float64 0.598 \n",
      "\n",
      "precip_largescale <xarray.Dataset>\n",
      "Dimensions:              ()\n",
      "Coordinates:\n",
      "    raw_data_start_date  object 0004-01-01 00:00:00\n",
      "    subset_start_date    object 0004-01-01 00:00:00\n",
      "    raw_data_end_date    object 0007-01-01 00:00:00\n",
      "    subset_end_date      object 0006-12-31 00:00:00\n",
      "Data variables:\n",
      "    tropics              float64 0.4551\n",
      "    globe                float64 0.9149 \n",
      "\n",
      "precip_convective <xarray.Dataset>\n",
      "Dimensions:              ()\n",
      "Coordinates:\n",
      "    raw_data_start_date  object 0004-01-01 00:00:00\n",
      "    subset_start_date    object 0004-01-01 00:00:00\n",
      "    raw_data_end_date    object 0007-01-01 00:00:00\n",
      "    subset_end_date      object 0006-12-31 00:00:00\n",
      "Data variables:\n",
      "    tropics              float64 3.055\n",
      "    globe                float64 2.11 \n",
      "\n"
     ]
    },
    {
     "name": "stderr",
     "output_type": "stream",
     "text": [
      "//anaconda/envs/aospy_dev/lib/python3.6/site-packages/xarray/core/dataset.py:374: FutureWarning: iteration over an xarray.Dataset will change in xarray v0.11 to only include data variables, not coordinates. Iterate over the Dataset.variables property instead to preserve existing behavior in a forwards compatible manner.\n",
      "  both_data_and_coords = [k for k in data_vars if k in coords]\n"
     ]
    }
   ],
   "source": [
    "for calc in calcs:\n",
    "    ds = xr.Dataset(calc.data_out['reg.av'])\n",
    "    if calc.name != precip_conv_frac.name:\n",
    "        ds *= 86400  # convert to units mm/day\n",
    "    print(calc.name, ds, '\\n')"
   ]
  },
  {
   "cell_type": "markdown",
   "metadata": {},
   "source": [
    "As was evident from the plots, we see that most precipitation (80.8%) in the tropics comes from convective rainfall, but averaged over the globe the large-scale condensation is a more equal player (40.2% for large-scale, 59.8% for convective)."
   ]
  },
  {
   "cell_type": "markdown",
   "metadata": {},
   "source": [
    "Beyond this simple example\n",
    "==============\n",
    "\n",
    "Scaling up\n",
    "----------\n",
    "In this case, we computed time averages of four variables, both at each gridpoint (which we'll call 1 calculation) and averaged over two regions, yielding (4 variables)*(1 gridcell operation + (2 regions)*(1 regional operation)) = 12 total calculations executed. Not bad, but 12 calculations is few enough that we probably could have handled them without aospy.\n",
    "\n",
    "The power of aospy is that, with the infrastructure we've put in place, we can now fire off additional calculations at any time. Some examples:\n",
    "\n",
    "- Set `output_time_regional_reductions=['ts', 'std', 'reg.ts', 'reg.std']` : calculate the timeseries ('ts') and standard deviation ('std') of annual mean values at each gridpoint and for the regional averages.\n",
    "- Set `output_time_intervals=range(1, 13)` : average across years for each January (1), each February (2), etc. through December (12).\n",
    "\n",
    "With these settings, the number of calculations is now (4 variables)*(2 gridcell operations + (2 regions)*(2 regional operations))*(12 temporal averages) = 288 calculations submitted with a single command.\n",
    "\n",
    "Modifying your object library\n",
    "----------------------------\n",
    "\n",
    "We can also add new objects to our object library at any time. For example, suppose we performed a new simulation in which we modified the formulation of the convective parameterization. All we would have to do is create a corresponding `Run` object, and then we can execute calculations for that simulation. And likewise for models, projects, variables, and regions.\n",
    "\n",
    "As a real-world example, two of aospy's developers use aospy for in their own scientific research, with multiple projects each comprising multiple models, simulations, etc. They routinely fire off thousands of calculations at once. And thanks to the highly organized and metadata-rich directory structure and filenames of the aospy output netCDF files, all of the resulting data is easy to find and use.\n",
    "\n",
    "Example \"main\" script\n",
    "--------------------\n",
    "\n",
    "Finally, aospy comes included with a \"main\" script for submitting calculations that is pre-populated with the objects from the example object library. It also comes with in-line instructions on how to use it, whether you want to keep playing with the example library or modify it to use on your own object library.\n",
    "\n",
    "It is located in \"examples\" directory of your aospy installation. Find it via typing `python -c \"import os, aospy; print(os.path.join(aospy.__path__[0], 'examples', 'aospy_main.py'))\"` from your terminal."
   ]
  },
  {
   "cell_type": "code",
   "execution_count": 18,
   "metadata": {},
   "outputs": [],
   "source": [
    "# Optional: remove created files\n",
    "import shutil\n",
    "shutil.rmtree(example_proj.direc_out)"
   ]
  },
  {
   "cell_type": "code",
   "execution_count": null,
   "metadata": {},
   "outputs": [],
   "source": []
  }
 ],
 "metadata": {
  "kernelspec": {
   "display_name": "Python 3",
   "language": "python",
   "name": "python3"
  },
  "language_info": {
   "codemirror_mode": {
    "name": "ipython",
    "version": 3
   },
   "file_extension": ".py",
   "mimetype": "text/x-python",
   "name": "python",
   "nbconvert_exporter": "python",
   "pygments_lexer": "ipython3",
   "version": "3.6.1"
  },
  "latex_envs": {
   "LaTeX_envs_menu_present": true,
   "autocomplete": true,
   "bibliofile": "biblio.bib",
   "cite_by": "apalike",
   "current_citInitial": 1,
   "eqLabelWithNumbers": true,
   "eqNumInitial": 1,
   "hotkeys": {
    "equation": "Ctrl-E",
    "itemize": "Ctrl-I"
   },
   "labels_anchors": false,
   "latex_user_defs": false,
   "report_style_numbering": false,
   "user_envs_cfg": false
  },
  "toc": {
   "nav_menu": {},
   "number_sections": true,
   "sideBar": true,
   "skip_h1_title": false,
   "toc_cell": false,
   "toc_position": {},
   "toc_section_display": "block",
   "toc_window_display": false
  }
 },
 "nbformat": 4,
 "nbformat_minor": 1
}
